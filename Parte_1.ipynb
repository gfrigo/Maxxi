{
 "cells": [
  {
   "cell_type": "markdown",
   "id": "70646142-7b36-470c-ae20-14e586590677",
   "metadata": {},
   "source": [
    "# Parte 1"
   ]
  },
  {
   "cell_type": "markdown",
   "id": "b27752c7-a4a1-4f58-8b35-6640b1f25813",
   "metadata": {},
   "source": [
    "## Imports"
   ]
  },
  {
   "cell_type": "code",
   "execution_count": 1,
   "id": "5cb9dfa7-2eb4-4167-adf6-38fd8372efa2",
   "metadata": {},
   "outputs": [],
   "source": [
    "import pandas as pd\n",
    "import numpy as np\n",
    "import matplotlib.pyplot as plt\n",
    "import seaborn as sns\n",
    "\n",
    "sns.set()"
   ]
  },
  {
   "cell_type": "markdown",
   "id": "c4843345-49cd-4ce8-b54b-d7f07d4aa867",
   "metadata": {},
   "source": [
    "## Dataframes"
   ]
  },
  {
   "cell_type": "code",
   "execution_count": 2,
   "id": "ea743eb7-1009-4859-8c62-eb43abda97d6",
   "metadata": {},
   "outputs": [],
   "source": [
    "df_sales = pd.read_csv('./vendas.csv', delimiter=';')\n",
    "df_register = pd.read_csv('./cadastro.csv', delimiter=';')"
   ]
  },
  {
   "cell_type": "code",
   "execution_count": 3,
   "id": "63fed8de-5add-4f54-b8c6-3a54563ff1b0",
   "metadata": {},
   "outputs": [
    {
     "data": {
      "text/html": [
       "<div>\n",
       "<style scoped>\n",
       "    .dataframe tbody tr th:only-of-type {\n",
       "        vertical-align: middle;\n",
       "    }\n",
       "\n",
       "    .dataframe tbody tr th {\n",
       "        vertical-align: top;\n",
       "    }\n",
       "\n",
       "    .dataframe thead th {\n",
       "        text-align: right;\n",
       "    }\n",
       "</style>\n",
       "<table border=\"1\" class=\"dataframe\">\n",
       "  <thead>\n",
       "    <tr style=\"text-align: right;\">\n",
       "      <th></th>\n",
       "      <th>cod_venda</th>\n",
       "      <th>cod_cadastro</th>\n",
       "      <th>produto</th>\n",
       "      <th>valor</th>\n",
       "    </tr>\n",
       "  </thead>\n",
       "  <tbody>\n",
       "    <tr>\n",
       "      <th>0</th>\n",
       "      <td>1</td>\n",
       "      <td>1</td>\n",
       "      <td>Refrigerante</td>\n",
       "      <td>6.5</td>\n",
       "    </tr>\n",
       "    <tr>\n",
       "      <th>1</th>\n",
       "      <td>2</td>\n",
       "      <td>2</td>\n",
       "      <td>Chocolate</td>\n",
       "      <td>4.0</td>\n",
       "    </tr>\n",
       "    <tr>\n",
       "      <th>2</th>\n",
       "      <td>3</td>\n",
       "      <td>3</td>\n",
       "      <td>Suco</td>\n",
       "      <td>5.0</td>\n",
       "    </tr>\n",
       "    <tr>\n",
       "      <th>3</th>\n",
       "      <td>4</td>\n",
       "      <td>4</td>\n",
       "      <td>Bolacha</td>\n",
       "      <td>3.5</td>\n",
       "    </tr>\n",
       "    <tr>\n",
       "      <th>4</th>\n",
       "      <td>5</td>\n",
       "      <td>5</td>\n",
       "      <td>Cereal</td>\n",
       "      <td>11.9</td>\n",
       "    </tr>\n",
       "  </tbody>\n",
       "</table>\n",
       "</div>"
      ],
      "text/plain": [
       "   cod_venda  cod_cadastro       produto  valor\n",
       "0          1             1  Refrigerante    6.5\n",
       "1          2             2     Chocolate    4.0\n",
       "2          3             3          Suco    5.0\n",
       "3          4             4       Bolacha    3.5\n",
       "4          5             5        Cereal   11.9"
      ]
     },
     "execution_count": 3,
     "metadata": {},
     "output_type": "execute_result"
    }
   ],
   "source": [
    "df_sales.head()"
   ]
  },
  {
   "cell_type": "code",
   "execution_count": 4,
   "id": "0f44e747-b7b5-495b-aa43-0a40b3ff4485",
   "metadata": {},
   "outputs": [
    {
     "data": {
      "text/html": [
       "<div>\n",
       "<style scoped>\n",
       "    .dataframe tbody tr th:only-of-type {\n",
       "        vertical-align: middle;\n",
       "    }\n",
       "\n",
       "    .dataframe tbody tr th {\n",
       "        vertical-align: top;\n",
       "    }\n",
       "\n",
       "    .dataframe thead th {\n",
       "        text-align: right;\n",
       "    }\n",
       "</style>\n",
       "<table border=\"1\" class=\"dataframe\">\n",
       "  <thead>\n",
       "    <tr style=\"text-align: right;\">\n",
       "      <th></th>\n",
       "      <th>cod_cadastro</th>\n",
       "      <th>estado_civil</th>\n",
       "      <th>grau_instrucao</th>\n",
       "      <th>num_filhos</th>\n",
       "      <th>salario</th>\n",
       "      <th>idade_anos</th>\n",
       "      <th>reg_procedencia</th>\n",
       "    </tr>\n",
       "  </thead>\n",
       "  <tbody>\n",
       "    <tr>\n",
       "      <th>0</th>\n",
       "      <td>1</td>\n",
       "      <td>solteiro</td>\n",
       "      <td>1-ensino fundamental</td>\n",
       "      <td>NaN</td>\n",
       "      <td>4.00</td>\n",
       "      <td>26</td>\n",
       "      <td>interior</td>\n",
       "    </tr>\n",
       "    <tr>\n",
       "      <th>1</th>\n",
       "      <td>2</td>\n",
       "      <td>casado</td>\n",
       "      <td>1-ensino fundamental</td>\n",
       "      <td>1.0</td>\n",
       "      <td>4.56</td>\n",
       "      <td>32</td>\n",
       "      <td>capital</td>\n",
       "    </tr>\n",
       "    <tr>\n",
       "      <th>2</th>\n",
       "      <td>3</td>\n",
       "      <td>casado</td>\n",
       "      <td>1-ensino fundamental</td>\n",
       "      <td>2.0</td>\n",
       "      <td>5.25</td>\n",
       "      <td>36</td>\n",
       "      <td>capital</td>\n",
       "    </tr>\n",
       "    <tr>\n",
       "      <th>3</th>\n",
       "      <td>4</td>\n",
       "      <td>solteiro</td>\n",
       "      <td>2-ensino medio</td>\n",
       "      <td>NaN</td>\n",
       "      <td>5.73</td>\n",
       "      <td>20</td>\n",
       "      <td>outra</td>\n",
       "    </tr>\n",
       "    <tr>\n",
       "      <th>4</th>\n",
       "      <td>5</td>\n",
       "      <td>solteiro</td>\n",
       "      <td>1-ensino fundamental</td>\n",
       "      <td>NaN</td>\n",
       "      <td>6.26</td>\n",
       "      <td>40</td>\n",
       "      <td>outra</td>\n",
       "    </tr>\n",
       "  </tbody>\n",
       "</table>\n",
       "</div>"
      ],
      "text/plain": [
       "   cod_cadastro estado_civil        grau_instrucao  num_filhos  salario  \\\n",
       "0             1     solteiro  1-ensino fundamental         NaN     4.00   \n",
       "1             2       casado  1-ensino fundamental         1.0     4.56   \n",
       "2             3       casado  1-ensino fundamental         2.0     5.25   \n",
       "3             4     solteiro        2-ensino medio         NaN     5.73   \n",
       "4             5     solteiro  1-ensino fundamental         NaN     6.26   \n",
       "\n",
       "   idade_anos reg_procedencia  \n",
       "0          26        interior  \n",
       "1          32         capital  \n",
       "2          36         capital  \n",
       "3          20           outra  \n",
       "4          40           outra  "
      ]
     },
     "execution_count": 4,
     "metadata": {},
     "output_type": "execute_result"
    }
   ],
   "source": [
    "df_register.head()"
   ]
  },
  {
   "cell_type": "markdown",
   "id": "5b701d7b-4fdd-4ac6-a1d5-335640200402",
   "metadata": {},
   "source": [
    "## Tratamento de dados df_register"
   ]
  },
  {
   "cell_type": "markdown",
   "id": "c11418d9-2c52-485e-88d1-34515521a1d0",
   "metadata": {},
   "source": [
    "* A coluna num_filhos possui 16 dados faltantes;\n",
    "* Tipagem de dados incorreta para num_filhos;\n",
    "* Salários representados de forma incorreta;\n",
    "* grau_instrucao com dados sujos \"1-ensino medio\", por exemplo."
   ]
  },
  {
   "cell_type": "code",
   "execution_count": 5,
   "id": "b2407079-64f2-408f-9f7c-48d045fe020c",
   "metadata": {},
   "outputs": [
    {
     "data": {
      "text/plain": [
       "(36, 7)"
      ]
     },
     "execution_count": 5,
     "metadata": {},
     "output_type": "execute_result"
    }
   ],
   "source": [
    "df_register.shape"
   ]
  },
  {
   "cell_type": "code",
   "execution_count": 6,
   "id": "2a80f038-281d-4f21-b441-c0e30427d816",
   "metadata": {},
   "outputs": [
    {
     "name": "stdout",
     "output_type": "stream",
     "text": [
      "<class 'pandas.core.frame.DataFrame'>\n",
      "RangeIndex: 36 entries, 0 to 35\n",
      "Data columns (total 7 columns):\n",
      " #   Column           Non-Null Count  Dtype  \n",
      "---  ------           --------------  -----  \n",
      " 0   cod_cadastro     36 non-null     int64  \n",
      " 1   estado_civil     36 non-null     object \n",
      " 2   grau_instrucao   36 non-null     object \n",
      " 3   num_filhos       20 non-null     float64\n",
      " 4   salario          36 non-null     float64\n",
      " 5   idade_anos       36 non-null     int64  \n",
      " 6   reg_procedencia  36 non-null     object \n",
      "dtypes: float64(2), int64(2), object(3)\n",
      "memory usage: 2.1+ KB\n"
     ]
    }
   ],
   "source": [
    "df_register.info()"
   ]
  },
  {
   "cell_type": "code",
   "execution_count": 7,
   "id": "eceb472e-1ea2-4907-a110-1b093ddeeb71",
   "metadata": {},
   "outputs": [
    {
     "data": {
      "text/plain": [
       "cod_cadastro        0\n",
       "estado_civil        0\n",
       "grau_instrucao      0\n",
       "num_filhos         16\n",
       "salario             0\n",
       "idade_anos          0\n",
       "reg_procedencia     0\n",
       "dtype: int64"
      ]
     },
     "execution_count": 7,
     "metadata": {},
     "output_type": "execute_result"
    }
   ],
   "source": [
    "df_register.isna().sum()"
   ]
  },
  {
   "cell_type": "markdown",
   "id": "d6e222be-2576-4137-8105-2aeaf97af8ca",
   "metadata": {},
   "source": [
    "* Neste caso, `não pode-se atribuir` uma quantidade de filhos para as pessoas que possuem \"`NaN quantidade de filhos`;\n",
    "* Serão preenchidos com o número `0`."
   ]
  },
  {
   "cell_type": "code",
   "execution_count": 8,
   "id": "e485a0d8-0225-40d8-8526-200e9b85d51c",
   "metadata": {},
   "outputs": [
    {
     "data": {
      "text/plain": [
       "array([nan,  1.,  2.,  0.,  3.,  5.])"
      ]
     },
     "execution_count": 8,
     "metadata": {},
     "output_type": "execute_result"
    }
   ],
   "source": [
    "df_register['num_filhos'].unique()"
   ]
  },
  {
   "cell_type": "code",
   "execution_count": 9,
   "id": "e7acd5e1-a464-457d-b11e-e0f208ef9d2f",
   "metadata": {},
   "outputs": [],
   "source": [
    "df_register['num_filhos'].fillna(0, inplace=True)"
   ]
  },
  {
   "cell_type": "markdown",
   "id": "19f95ba5-3754-4cd4-8740-4b24b35418e7",
   "metadata": {},
   "source": [
    "* Confirmação de valores ausentes:"
   ]
  },
  {
   "cell_type": "code",
   "execution_count": 10,
   "id": "bfcae41a-b9c5-4624-b65c-9ee345d572d6",
   "metadata": {},
   "outputs": [
    {
     "data": {
      "text/plain": [
       "cod_cadastro       0\n",
       "estado_civil       0\n",
       "grau_instrucao     0\n",
       "num_filhos         0\n",
       "salario            0\n",
       "idade_anos         0\n",
       "reg_procedencia    0\n",
       "dtype: int64"
      ]
     },
     "execution_count": 10,
     "metadata": {},
     "output_type": "execute_result"
    }
   ],
   "source": [
    "df_register.isna().sum()"
   ]
  },
  {
   "cell_type": "markdown",
   "id": "14558cfe-44f2-48cb-a2cf-d49992237ae0",
   "metadata": {},
   "source": [
    "* Mudar tipagem de dados de `float` para `int` na variável num_filhos"
   ]
  },
  {
   "cell_type": "code",
   "execution_count": 11,
   "id": "028fc407-5aed-4374-909a-6a27b1478b83",
   "metadata": {},
   "outputs": [],
   "source": [
    "df_register['num_filhos'] = df_register['num_filhos'].astype('int64')"
   ]
  },
  {
   "cell_type": "code",
   "execution_count": 12,
   "id": "d3baa893-d0af-4089-8922-62a9da72854b",
   "metadata": {},
   "outputs": [
    {
     "name": "stdout",
     "output_type": "stream",
     "text": [
      "<class 'pandas.core.frame.DataFrame'>\n",
      "RangeIndex: 36 entries, 0 to 35\n",
      "Data columns (total 7 columns):\n",
      " #   Column           Non-Null Count  Dtype  \n",
      "---  ------           --------------  -----  \n",
      " 0   cod_cadastro     36 non-null     int64  \n",
      " 1   estado_civil     36 non-null     object \n",
      " 2   grau_instrucao   36 non-null     object \n",
      " 3   num_filhos       36 non-null     int64  \n",
      " 4   salario          36 non-null     float64\n",
      " 5   idade_anos       36 non-null     int64  \n",
      " 6   reg_procedencia  36 non-null     object \n",
      "dtypes: float64(1), int64(3), object(3)\n",
      "memory usage: 2.1+ KB\n"
     ]
    }
   ],
   "source": [
    "df_register.info()"
   ]
  },
  {
   "cell_type": "markdown",
   "id": "c3c93d15-2cec-407f-a78f-6bbe8624e1fe",
   "metadata": {},
   "source": [
    "Alterar os valores dos salários para números compatíveis:\n",
    "* Mudar 4.56, por exemplo para 4560.00."
   ]
  },
  {
   "cell_type": "code",
   "execution_count": 13,
   "id": "7f2813e4-87d2-43da-9a08-f2462e78c265",
   "metadata": {},
   "outputs": [],
   "source": [
    "df_register['salario'] = df_register['salario']*1000"
   ]
  },
  {
   "cell_type": "code",
   "execution_count": 14,
   "id": "03ab9e06-1a7c-4294-8eb9-87cc6b520049",
   "metadata": {},
   "outputs": [
    {
     "data": {
      "text/html": [
       "<div>\n",
       "<style scoped>\n",
       "    .dataframe tbody tr th:only-of-type {\n",
       "        vertical-align: middle;\n",
       "    }\n",
       "\n",
       "    .dataframe tbody tr th {\n",
       "        vertical-align: top;\n",
       "    }\n",
       "\n",
       "    .dataframe thead th {\n",
       "        text-align: right;\n",
       "    }\n",
       "</style>\n",
       "<table border=\"1\" class=\"dataframe\">\n",
       "  <thead>\n",
       "    <tr style=\"text-align: right;\">\n",
       "      <th></th>\n",
       "      <th>cod_cadastro</th>\n",
       "      <th>estado_civil</th>\n",
       "      <th>grau_instrucao</th>\n",
       "      <th>num_filhos</th>\n",
       "      <th>salario</th>\n",
       "      <th>idade_anos</th>\n",
       "      <th>reg_procedencia</th>\n",
       "    </tr>\n",
       "  </thead>\n",
       "  <tbody>\n",
       "    <tr>\n",
       "      <th>0</th>\n",
       "      <td>1</td>\n",
       "      <td>solteiro</td>\n",
       "      <td>ensino fundamental</td>\n",
       "      <td>0</td>\n",
       "      <td>4000.0</td>\n",
       "      <td>26</td>\n",
       "      <td>interior</td>\n",
       "    </tr>\n",
       "    <tr>\n",
       "      <th>1</th>\n",
       "      <td>2</td>\n",
       "      <td>casado</td>\n",
       "      <td>ensino fundamental</td>\n",
       "      <td>1</td>\n",
       "      <td>4560.0</td>\n",
       "      <td>32</td>\n",
       "      <td>capital</td>\n",
       "    </tr>\n",
       "    <tr>\n",
       "      <th>2</th>\n",
       "      <td>3</td>\n",
       "      <td>casado</td>\n",
       "      <td>ensino fundamental</td>\n",
       "      <td>2</td>\n",
       "      <td>5250.0</td>\n",
       "      <td>36</td>\n",
       "      <td>capital</td>\n",
       "    </tr>\n",
       "    <tr>\n",
       "      <th>3</th>\n",
       "      <td>4</td>\n",
       "      <td>solteiro</td>\n",
       "      <td>ensino medio</td>\n",
       "      <td>0</td>\n",
       "      <td>5730.0</td>\n",
       "      <td>20</td>\n",
       "      <td>outra</td>\n",
       "    </tr>\n",
       "    <tr>\n",
       "      <th>4</th>\n",
       "      <td>5</td>\n",
       "      <td>solteiro</td>\n",
       "      <td>ensino fundamental</td>\n",
       "      <td>0</td>\n",
       "      <td>6260.0</td>\n",
       "      <td>40</td>\n",
       "      <td>outra</td>\n",
       "    </tr>\n",
       "  </tbody>\n",
       "</table>\n",
       "</div>"
      ],
      "text/plain": [
       "   cod_cadastro estado_civil      grau_instrucao  num_filhos  salario  \\\n",
       "0             1     solteiro  ensino fundamental           0   4000.0   \n",
       "1             2       casado  ensino fundamental           1   4560.0   \n",
       "2             3       casado  ensino fundamental           2   5250.0   \n",
       "3             4     solteiro        ensino medio           0   5730.0   \n",
       "4             5     solteiro  ensino fundamental           0   6260.0   \n",
       "\n",
       "   idade_anos reg_procedencia  \n",
       "0          26        interior  \n",
       "1          32         capital  \n",
       "2          36         capital  \n",
       "3          20           outra  \n",
       "4          40           outra  "
      ]
     },
     "execution_count": 14,
     "metadata": {},
     "output_type": "execute_result"
    }
   ],
   "source": [
    "df_register['grau_instrucao'] = df_register['grau_instrucao'].apply(lambda x: f'{x[2:]}')\n",
    "df_register.head()"
   ]
  },
  {
   "cell_type": "markdown",
   "id": "877e99d4-d977-4cc9-ad09-5e5d433d1b7a",
   "metadata": {},
   "source": [
    "## Tratamento de dados df_sales"
   ]
  },
  {
   "cell_type": "markdown",
   "id": "9a720b9f-015d-42ba-b2d8-cf50d517b6c1",
   "metadata": {},
   "source": [
    "* Dataframe vendas não possui valores faltantes;\n",
    "* Tipagem de dados correta para cada variável."
   ]
  },
  {
   "cell_type": "code",
   "execution_count": 15,
   "id": "e7526e13-ac29-43b0-a50a-dbabd68ec10c",
   "metadata": {},
   "outputs": [
    {
     "data": {
      "text/plain": [
       "(62, 4)"
      ]
     },
     "execution_count": 15,
     "metadata": {},
     "output_type": "execute_result"
    }
   ],
   "source": [
    "df_sales.shape"
   ]
  },
  {
   "cell_type": "code",
   "execution_count": 16,
   "id": "27b8156f-a435-4f1d-92b6-93e6d56edfc2",
   "metadata": {},
   "outputs": [
    {
     "data": {
      "text/plain": [
       "36"
      ]
     },
     "execution_count": 16,
     "metadata": {},
     "output_type": "execute_result"
    }
   ],
   "source": [
    "df_sales['cod_cadastro'].nunique()"
   ]
  },
  {
   "cell_type": "markdown",
   "id": "1c92137c-8d25-4982-b085-8528e7a17dcf",
   "metadata": {},
   "source": [
    "* Será necessário a junção de tabelas com uma chave em comum: `cod_cadastro`."
   ]
  },
  {
   "cell_type": "code",
   "execution_count": 17,
   "id": "3e6ac9a8-eb3a-45a8-b4dd-f0a81551b1d9",
   "metadata": {},
   "outputs": [
    {
     "name": "stdout",
     "output_type": "stream",
     "text": [
      "<class 'pandas.core.frame.DataFrame'>\n",
      "RangeIndex: 62 entries, 0 to 61\n",
      "Data columns (total 4 columns):\n",
      " #   Column        Non-Null Count  Dtype  \n",
      "---  ------        --------------  -----  \n",
      " 0   cod_venda     62 non-null     int64  \n",
      " 1   cod_cadastro  62 non-null     int64  \n",
      " 2   produto       62 non-null     object \n",
      " 3   valor         62 non-null     float64\n",
      "dtypes: float64(1), int64(2), object(1)\n",
      "memory usage: 2.1+ KB\n"
     ]
    }
   ],
   "source": [
    "df_sales.info()"
   ]
  },
  {
   "cell_type": "markdown",
   "id": "1b37df5f-7feb-473b-b5c1-7458785db49d",
   "metadata": {},
   "source": [
    "## Junção de Tabelas com Merge"
   ]
  },
  {
   "cell_type": "markdown",
   "id": "a049fe69-f422-4282-9ac5-5f2497a89395",
   "metadata": {},
   "source": [
    "* Juntar os dois Dataframes em apenas um pela coluna de chave estrangeira cod_cadastro."
   ]
  },
  {
   "cell_type": "code",
   "execution_count": 18,
   "id": "ae79a2c6-4f93-4f0e-a97c-ff0bf3eb660f",
   "metadata": {},
   "outputs": [
    {
     "data": {
      "text/html": [
       "<div>\n",
       "<style scoped>\n",
       "    .dataframe tbody tr th:only-of-type {\n",
       "        vertical-align: middle;\n",
       "    }\n",
       "\n",
       "    .dataframe tbody tr th {\n",
       "        vertical-align: top;\n",
       "    }\n",
       "\n",
       "    .dataframe thead th {\n",
       "        text-align: right;\n",
       "    }\n",
       "</style>\n",
       "<table border=\"1\" class=\"dataframe\">\n",
       "  <thead>\n",
       "    <tr style=\"text-align: right;\">\n",
       "      <th></th>\n",
       "      <th>cod_cadastro</th>\n",
       "      <th>estado_civil</th>\n",
       "      <th>grau_instrucao</th>\n",
       "      <th>num_filhos</th>\n",
       "      <th>salario</th>\n",
       "      <th>idade_anos</th>\n",
       "      <th>reg_procedencia</th>\n",
       "    </tr>\n",
       "  </thead>\n",
       "  <tbody>\n",
       "  </tbody>\n",
       "</table>\n",
       "</div>"
      ],
      "text/plain": [
       "Empty DataFrame\n",
       "Columns: [cod_cadastro, estado_civil, grau_instrucao, num_filhos, salario, idade_anos, reg_procedencia]\n",
       "Index: []"
      ]
     },
     "execution_count": 18,
     "metadata": {},
     "output_type": "execute_result"
    }
   ],
   "source": [
    "df_register.head(0)"
   ]
  },
  {
   "cell_type": "code",
   "execution_count": 19,
   "id": "ab4e8dc7-873b-4258-8283-fc1eef5b694a",
   "metadata": {},
   "outputs": [
    {
     "data": {
      "text/html": [
       "<div>\n",
       "<style scoped>\n",
       "    .dataframe tbody tr th:only-of-type {\n",
       "        vertical-align: middle;\n",
       "    }\n",
       "\n",
       "    .dataframe tbody tr th {\n",
       "        vertical-align: top;\n",
       "    }\n",
       "\n",
       "    .dataframe thead th {\n",
       "        text-align: right;\n",
       "    }\n",
       "</style>\n",
       "<table border=\"1\" class=\"dataframe\">\n",
       "  <thead>\n",
       "    <tr style=\"text-align: right;\">\n",
       "      <th></th>\n",
       "      <th>cod_venda</th>\n",
       "      <th>cod_cadastro</th>\n",
       "      <th>produto</th>\n",
       "      <th>valor</th>\n",
       "    </tr>\n",
       "  </thead>\n",
       "  <tbody>\n",
       "  </tbody>\n",
       "</table>\n",
       "</div>"
      ],
      "text/plain": [
       "Empty DataFrame\n",
       "Columns: [cod_venda, cod_cadastro, produto, valor]\n",
       "Index: []"
      ]
     },
     "execution_count": 19,
     "metadata": {},
     "output_type": "execute_result"
    }
   ],
   "source": [
    "df_sales.head(0)"
   ]
  },
  {
   "cell_type": "code",
   "execution_count": 20,
   "id": "f8a58d02-cc32-44ee-88dd-351a707c48b4",
   "metadata": {},
   "outputs": [
    {
     "data": {
      "text/html": [
       "<div>\n",
       "<style scoped>\n",
       "    .dataframe tbody tr th:only-of-type {\n",
       "        vertical-align: middle;\n",
       "    }\n",
       "\n",
       "    .dataframe tbody tr th {\n",
       "        vertical-align: top;\n",
       "    }\n",
       "\n",
       "    .dataframe thead th {\n",
       "        text-align: right;\n",
       "    }\n",
       "</style>\n",
       "<table border=\"1\" class=\"dataframe\">\n",
       "  <thead>\n",
       "    <tr style=\"text-align: right;\">\n",
       "      <th></th>\n",
       "      <th>cod_cadastro</th>\n",
       "      <th>estado_civil</th>\n",
       "      <th>grau_instrucao</th>\n",
       "      <th>num_filhos</th>\n",
       "      <th>salario</th>\n",
       "      <th>idade_anos</th>\n",
       "      <th>reg_procedencia</th>\n",
       "      <th>cod_venda</th>\n",
       "      <th>produto</th>\n",
       "      <th>valor</th>\n",
       "    </tr>\n",
       "  </thead>\n",
       "  <tbody>\n",
       "    <tr>\n",
       "      <th>0</th>\n",
       "      <td>1</td>\n",
       "      <td>solteiro</td>\n",
       "      <td>ensino fundamental</td>\n",
       "      <td>0</td>\n",
       "      <td>4000.0</td>\n",
       "      <td>26</td>\n",
       "      <td>interior</td>\n",
       "      <td>1</td>\n",
       "      <td>Refrigerante</td>\n",
       "      <td>6.5</td>\n",
       "    </tr>\n",
       "    <tr>\n",
       "      <th>1</th>\n",
       "      <td>2</td>\n",
       "      <td>casado</td>\n",
       "      <td>ensino fundamental</td>\n",
       "      <td>1</td>\n",
       "      <td>4560.0</td>\n",
       "      <td>32</td>\n",
       "      <td>capital</td>\n",
       "      <td>2</td>\n",
       "      <td>Chocolate</td>\n",
       "      <td>4.0</td>\n",
       "    </tr>\n",
       "    <tr>\n",
       "      <th>2</th>\n",
       "      <td>3</td>\n",
       "      <td>casado</td>\n",
       "      <td>ensino fundamental</td>\n",
       "      <td>2</td>\n",
       "      <td>5250.0</td>\n",
       "      <td>36</td>\n",
       "      <td>capital</td>\n",
       "      <td>3</td>\n",
       "      <td>Suco</td>\n",
       "      <td>5.0</td>\n",
       "    </tr>\n",
       "    <tr>\n",
       "      <th>3</th>\n",
       "      <td>4</td>\n",
       "      <td>solteiro</td>\n",
       "      <td>ensino medio</td>\n",
       "      <td>0</td>\n",
       "      <td>5730.0</td>\n",
       "      <td>20</td>\n",
       "      <td>outra</td>\n",
       "      <td>4</td>\n",
       "      <td>Bolacha</td>\n",
       "      <td>3.5</td>\n",
       "    </tr>\n",
       "    <tr>\n",
       "      <th>4</th>\n",
       "      <td>5</td>\n",
       "      <td>solteiro</td>\n",
       "      <td>ensino fundamental</td>\n",
       "      <td>0</td>\n",
       "      <td>6260.0</td>\n",
       "      <td>40</td>\n",
       "      <td>outra</td>\n",
       "      <td>5</td>\n",
       "      <td>Cereal</td>\n",
       "      <td>11.9</td>\n",
       "    </tr>\n",
       "  </tbody>\n",
       "</table>\n",
       "</div>"
      ],
      "text/plain": [
       "   cod_cadastro estado_civil      grau_instrucao  num_filhos  salario  \\\n",
       "0             1     solteiro  ensino fundamental           0   4000.0   \n",
       "1             2       casado  ensino fundamental           1   4560.0   \n",
       "2             3       casado  ensino fundamental           2   5250.0   \n",
       "3             4     solteiro        ensino medio           0   5730.0   \n",
       "4             5     solteiro  ensino fundamental           0   6260.0   \n",
       "\n",
       "   idade_anos reg_procedencia  cod_venda       produto  valor  \n",
       "0          26        interior          1  Refrigerante    6.5  \n",
       "1          32         capital          2     Chocolate    4.0  \n",
       "2          36         capital          3          Suco    5.0  \n",
       "3          20           outra          4       Bolacha    3.5  \n",
       "4          40           outra          5        Cereal   11.9  "
      ]
     },
     "execution_count": 20,
     "metadata": {},
     "output_type": "execute_result"
    }
   ],
   "source": [
    "df = df_register.merge(df_sales, on='cod_cadastro', how='left')\n",
    "df.head()"
   ]
  },
  {
   "cell_type": "markdown",
   "id": "1cbaf539-6929-4891-bc4c-aa4ba6584829",
   "metadata": {},
   "source": [
    "Quantidade de compra por usuário cadastrado:"
   ]
  },
  {
   "cell_type": "code",
   "execution_count": 21,
   "id": "6320d549-e757-4e3e-98b4-0d33988d6ea3",
   "metadata": {},
   "outputs": [
    {
     "data": {
      "text/html": [
       "<div>\n",
       "<style scoped>\n",
       "    .dataframe tbody tr th:only-of-type {\n",
       "        vertical-align: middle;\n",
       "    }\n",
       "\n",
       "    .dataframe tbody tr th {\n",
       "        vertical-align: top;\n",
       "    }\n",
       "\n",
       "    .dataframe thead th {\n",
       "        text-align: right;\n",
       "    }\n",
       "</style>\n",
       "<table border=\"1\" class=\"dataframe\">\n",
       "  <thead>\n",
       "    <tr style=\"text-align: right;\">\n",
       "      <th></th>\n",
       "      <th>count</th>\n",
       "    </tr>\n",
       "    <tr>\n",
       "      <th>cod_cadastro</th>\n",
       "      <th></th>\n",
       "    </tr>\n",
       "  </thead>\n",
       "  <tbody>\n",
       "    <tr>\n",
       "      <th>36</th>\n",
       "      <td>3</td>\n",
       "    </tr>\n",
       "    <tr>\n",
       "      <th>30</th>\n",
       "      <td>3</td>\n",
       "    </tr>\n",
       "    <tr>\n",
       "      <th>24</th>\n",
       "      <td>3</td>\n",
       "    </tr>\n",
       "    <tr>\n",
       "      <th>25</th>\n",
       "      <td>3</td>\n",
       "    </tr>\n",
       "    <tr>\n",
       "      <th>26</th>\n",
       "      <td>3</td>\n",
       "    </tr>\n",
       "    <tr>\n",
       "      <th>27</th>\n",
       "      <td>3</td>\n",
       "    </tr>\n",
       "    <tr>\n",
       "      <th>29</th>\n",
       "      <td>3</td>\n",
       "    </tr>\n",
       "    <tr>\n",
       "      <th>28</th>\n",
       "      <td>3</td>\n",
       "    </tr>\n",
       "    <tr>\n",
       "      <th>31</th>\n",
       "      <td>3</td>\n",
       "    </tr>\n",
       "    <tr>\n",
       "      <th>32</th>\n",
       "      <td>3</td>\n",
       "    </tr>\n",
       "    <tr>\n",
       "      <th>33</th>\n",
       "      <td>3</td>\n",
       "    </tr>\n",
       "    <tr>\n",
       "      <th>34</th>\n",
       "      <td>3</td>\n",
       "    </tr>\n",
       "    <tr>\n",
       "      <th>35</th>\n",
       "      <td>3</td>\n",
       "    </tr>\n",
       "    <tr>\n",
       "      <th>2</th>\n",
       "      <td>1</td>\n",
       "    </tr>\n",
       "    <tr>\n",
       "      <th>23</th>\n",
       "      <td>1</td>\n",
       "    </tr>\n",
       "    <tr>\n",
       "      <th>22</th>\n",
       "      <td>1</td>\n",
       "    </tr>\n",
       "    <tr>\n",
       "      <th>21</th>\n",
       "      <td>1</td>\n",
       "    </tr>\n",
       "    <tr>\n",
       "      <th>20</th>\n",
       "      <td>1</td>\n",
       "    </tr>\n",
       "    <tr>\n",
       "      <th>1</th>\n",
       "      <td>1</td>\n",
       "    </tr>\n",
       "    <tr>\n",
       "      <th>18</th>\n",
       "      <td>1</td>\n",
       "    </tr>\n",
       "    <tr>\n",
       "      <th>9</th>\n",
       "      <td>1</td>\n",
       "    </tr>\n",
       "    <tr>\n",
       "      <th>3</th>\n",
       "      <td>1</td>\n",
       "    </tr>\n",
       "    <tr>\n",
       "      <th>4</th>\n",
       "      <td>1</td>\n",
       "    </tr>\n",
       "    <tr>\n",
       "      <th>5</th>\n",
       "      <td>1</td>\n",
       "    </tr>\n",
       "    <tr>\n",
       "      <th>6</th>\n",
       "      <td>1</td>\n",
       "    </tr>\n",
       "    <tr>\n",
       "      <th>7</th>\n",
       "      <td>1</td>\n",
       "    </tr>\n",
       "    <tr>\n",
       "      <th>8</th>\n",
       "      <td>1</td>\n",
       "    </tr>\n",
       "    <tr>\n",
       "      <th>10</th>\n",
       "      <td>1</td>\n",
       "    </tr>\n",
       "    <tr>\n",
       "      <th>17</th>\n",
       "      <td>1</td>\n",
       "    </tr>\n",
       "    <tr>\n",
       "      <th>11</th>\n",
       "      <td>1</td>\n",
       "    </tr>\n",
       "    <tr>\n",
       "      <th>12</th>\n",
       "      <td>1</td>\n",
       "    </tr>\n",
       "    <tr>\n",
       "      <th>13</th>\n",
       "      <td>1</td>\n",
       "    </tr>\n",
       "    <tr>\n",
       "      <th>14</th>\n",
       "      <td>1</td>\n",
       "    </tr>\n",
       "    <tr>\n",
       "      <th>15</th>\n",
       "      <td>1</td>\n",
       "    </tr>\n",
       "    <tr>\n",
       "      <th>16</th>\n",
       "      <td>1</td>\n",
       "    </tr>\n",
       "    <tr>\n",
       "      <th>19</th>\n",
       "      <td>1</td>\n",
       "    </tr>\n",
       "  </tbody>\n",
       "</table>\n",
       "</div>"
      ],
      "text/plain": [
       "              count\n",
       "cod_cadastro       \n",
       "36                3\n",
       "30                3\n",
       "24                3\n",
       "25                3\n",
       "26                3\n",
       "27                3\n",
       "29                3\n",
       "28                3\n",
       "31                3\n",
       "32                3\n",
       "33                3\n",
       "34                3\n",
       "35                3\n",
       "2                 1\n",
       "23                1\n",
       "22                1\n",
       "21                1\n",
       "20                1\n",
       "1                 1\n",
       "18                1\n",
       "9                 1\n",
       "3                 1\n",
       "4                 1\n",
       "5                 1\n",
       "6                 1\n",
       "7                 1\n",
       "8                 1\n",
       "10                1\n",
       "17                1\n",
       "11                1\n",
       "12                1\n",
       "13                1\n",
       "14                1\n",
       "15                1\n",
       "16                1\n",
       "19                1"
      ]
     },
     "execution_count": 21,
     "metadata": {},
     "output_type": "execute_result"
    }
   ],
   "source": [
    "df['cod_cadastro'].value_counts().to_frame()"
   ]
  },
  {
   "cell_type": "markdown",
   "id": "d0a0a874-e235-401a-aa3e-cf02f0cefdad",
   "metadata": {},
   "source": [
    "## 1)\n",
    "Qual a pessoa (cod_cadastro) que gastou mais? e a que gastou menos?"
   ]
  },
  {
   "cell_type": "code",
   "execution_count": 22,
   "id": "68fc1e9b-7d3e-41ed-8dd7-6cb343216a21",
   "metadata": {},
   "outputs": [
    {
     "data": {
      "text/html": [
       "<div>\n",
       "<style scoped>\n",
       "    .dataframe tbody tr th:only-of-type {\n",
       "        vertical-align: middle;\n",
       "    }\n",
       "\n",
       "    .dataframe tbody tr th {\n",
       "        vertical-align: top;\n",
       "    }\n",
       "\n",
       "    .dataframe thead th {\n",
       "        text-align: right;\n",
       "    }\n",
       "</style>\n",
       "<table border=\"1\" class=\"dataframe\">\n",
       "  <thead>\n",
       "    <tr style=\"text-align: right;\">\n",
       "      <th></th>\n",
       "      <th>cod_cadastro</th>\n",
       "      <th>cod_venda</th>\n",
       "      <th>produto</th>\n",
       "      <th>valor</th>\n",
       "    </tr>\n",
       "  </thead>\n",
       "  <tbody>\n",
       "    <tr>\n",
       "      <th>15</th>\n",
       "      <td>16</td>\n",
       "      <td>16</td>\n",
       "      <td>Cenoura</td>\n",
       "      <td>2.8</td>\n",
       "    </tr>\n",
       "    <tr>\n",
       "      <th>43</th>\n",
       "      <td>30</td>\n",
       "      <td>56</td>\n",
       "      <td>Cenoura</td>\n",
       "      <td>2.8</td>\n",
       "    </tr>\n",
       "  </tbody>\n",
       "</table>\n",
       "</div>"
      ],
      "text/plain": [
       "    cod_cadastro  cod_venda  produto  valor\n",
       "15            16         16  Cenoura    2.8\n",
       "43            30         56  Cenoura    2.8"
      ]
     },
     "execution_count": 22,
     "metadata": {},
     "output_type": "execute_result"
    }
   ],
   "source": [
    "columns = ['cod_cadastro', 'cod_venda', 'produto', 'valor']\n",
    "\n",
    "menor_valor = df[df['valor'] == df['valor'].min()]\n",
    "menor_valor[columns]"
   ]
  },
  {
   "cell_type": "code",
   "execution_count": 23,
   "id": "2905bb10-7a98-474a-b5c2-5e396d9eede6",
   "metadata": {},
   "outputs": [
    {
     "data": {
      "text/html": [
       "<div>\n",
       "<style scoped>\n",
       "    .dataframe tbody tr th:only-of-type {\n",
       "        vertical-align: middle;\n",
       "    }\n",
       "\n",
       "    .dataframe tbody tr th {\n",
       "        vertical-align: top;\n",
       "    }\n",
       "\n",
       "    .dataframe thead th {\n",
       "        text-align: right;\n",
       "    }\n",
       "</style>\n",
       "<table border=\"1\" class=\"dataframe\">\n",
       "  <thead>\n",
       "    <tr style=\"text-align: right;\">\n",
       "      <th></th>\n",
       "      <th>cod_cadastro</th>\n",
       "      <th>cod_venda</th>\n",
       "      <th>produto</th>\n",
       "      <th>valor</th>\n",
       "    </tr>\n",
       "  </thead>\n",
       "  <tbody>\n",
       "    <tr>\n",
       "      <th>6</th>\n",
       "      <td>7</td>\n",
       "      <td>7</td>\n",
       "      <td>Queijo</td>\n",
       "      <td>35.5</td>\n",
       "    </tr>\n",
       "    <tr>\n",
       "      <th>54</th>\n",
       "      <td>34</td>\n",
       "      <td>47</td>\n",
       "      <td>Queijo</td>\n",
       "      <td>35.5</td>\n",
       "    </tr>\n",
       "  </tbody>\n",
       "</table>\n",
       "</div>"
      ],
      "text/plain": [
       "    cod_cadastro  cod_venda produto  valor\n",
       "6              7          7  Queijo   35.5\n",
       "54            34         47  Queijo   35.5"
      ]
     },
     "execution_count": 23,
     "metadata": {},
     "output_type": "execute_result"
    }
   ],
   "source": [
    "columns = ['cod_cadastro', 'cod_venda', 'produto', 'valor']\n",
    "\n",
    "maior_valor = df[df['valor'] == df['valor'].max()]\n",
    "maior_valor[columns]"
   ]
  },
  {
   "cell_type": "markdown",
   "id": "6ad20a88-544d-4aab-a369-abf9a234b088",
   "metadata": {},
   "source": [
    "## 2)\n",
    "Qual a região de procedência que gasta mais?"
   ]
  },
  {
   "cell_type": "markdown",
   "id": "0200caff-c133-4363-b00f-9b1a7d4815cc",
   "metadata": {},
   "source": [
    "* `estimator=sum` permite que o gráfico tenha uma altura em y de soma dos dados da variável `valor`;\n",
    "* Por padrão o gráfico teria uma média das variáveis em y, o que não responde a esta pergunta;\n",
    "* Desabilitei o intervalo de confiança (`errobar=None`), dispensável neste caso."
   ]
  },
  {
   "cell_type": "markdown",
   "id": "d90d39c6-d6c2-4e41-8e89-5aa0aa5bc802",
   "metadata": {},
   "source": [
    "* `RESPOSTA:` Quem mais gastou foi a região de procedência do interior."
   ]
  },
  {
   "cell_type": "code",
   "execution_count": 24,
   "id": "e6e878c5-9b44-4c76-b39f-d8963101eee5",
   "metadata": {},
   "outputs": [
    {
     "data": {
      "text/plain": [
       "<Axes: xlabel='reg_procedencia', ylabel='valor'>"
      ]
     },
     "execution_count": 24,
     "metadata": {},
     "output_type": "execute_result"
    },
    {
     "data": {
      "image/png": "[encoded data removed]",
      "text/plain": [
       "<Figure size 500x500 with 1 Axes>"
      ]
     },
     "metadata": {},
     "output_type": "display_data"
    }
   ],
   "source": [
    "plt.rc('figure', figsize=(5,5))\n",
    "\n",
    "sns.barplot(x='reg_procedencia', y='valor', estimator=sum, data=df, errorbar=None)"
   ]
  },
  {
   "cell_type": "markdown",
   "id": "499bc1ef-32a3-44dd-b400-9aa98288d052",
   "metadata": {},
   "source": [
    "* Comprovar valores por meio de tabelas;\n",
    "* Soma do gasto total."
   ]
  },
  {
   "cell_type": "code",
   "execution_count": 25,
   "id": "c51d052b-842f-4c9c-bb97-2907a63a7436",
   "metadata": {},
   "outputs": [],
   "source": [
    "df_interior = df[(df['reg_procedencia'] == 'interior') & (df['valor'])]\n",
    "df_capital = df[(df['reg_procedencia'] == 'capital') & (df['valor'])]\n",
    "df_outra = df[(df['reg_procedencia'] == 'outra') & (df['valor'])]"
   ]
  },
  {
   "cell_type": "code",
   "execution_count": 26,
   "id": "e0b18ef8-22da-4b0d-a782-7739b25ac0cc",
   "metadata": {},
   "outputs": [
    {
     "data": {
      "text/html": [
       "<div>\n",
       "<style scoped>\n",
       "    .dataframe tbody tr th:only-of-type {\n",
       "        vertical-align: middle;\n",
       "    }\n",
       "\n",
       "    .dataframe tbody tr th {\n",
       "        vertical-align: top;\n",
       "    }\n",
       "\n",
       "    .dataframe thead th {\n",
       "        text-align: right;\n",
       "    }\n",
       "</style>\n",
       "<table border=\"1\" class=\"dataframe\">\n",
       "  <thead>\n",
       "    <tr style=\"text-align: right;\">\n",
       "      <th></th>\n",
       "      <th>Total</th>\n",
       "    </tr>\n",
       "  </thead>\n",
       "  <tbody>\n",
       "    <tr>\n",
       "      <th>Capital</th>\n",
       "      <td>165.90</td>\n",
       "    </tr>\n",
       "    <tr>\n",
       "      <th>Interior</th>\n",
       "      <td>189.93</td>\n",
       "    </tr>\n",
       "    <tr>\n",
       "      <th>Outra</th>\n",
       "      <td>166.67</td>\n",
       "    </tr>\n",
       "  </tbody>\n",
       "</table>\n",
       "</div>"
      ],
      "text/plain": [
       "           Total\n",
       "Capital   165.90\n",
       "Interior  189.93\n",
       "Outra     166.67"
      ]
     },
     "execution_count": 26,
     "metadata": {},
     "output_type": "execute_result"
    }
   ],
   "source": [
    "gastos = {\n",
    "    'Interior': df_interior['valor'].sum(),\n",
    "    'Capital': df_capital['valor'].sum(),\n",
    "    'Outra': df_outra['valor'].sum()\n",
    "}\n",
    "\n",
    "df_gastos = pd.DataFrame({'Total':gastos})\n",
    "df_gastos"
   ]
  },
  {
   "cell_type": "markdown",
   "id": "ed55a80e-a3ee-442e-9749-96164c2e961b",
   "metadata": {},
   "source": [
    "## 3)\n",
    "Qual o produto que mais é vendido em quantidade?"
   ]
  },
  {
   "cell_type": "markdown",
   "id": "42dc86cf-39c4-4f9e-9f02-5481e4ec5a8a",
   "metadata": {},
   "source": [
    "* `RESPOSTA:` O produto mais vendido em quantidade é o chocolate."
   ]
  },
  {
   "cell_type": "code",
   "execution_count": 27,
   "id": "b7a8c619-477b-4cb1-8054-7b200524fa3c",
   "metadata": {},
   "outputs": [
    {
     "data": {
      "text/html": [
       "<div>\n",
       "<style scoped>\n",
       "    .dataframe tbody tr th:only-of-type {\n",
       "        vertical-align: middle;\n",
       "    }\n",
       "\n",
       "    .dataframe tbody tr th {\n",
       "        vertical-align: top;\n",
       "    }\n",
       "\n",
       "    .dataframe thead th {\n",
       "        text-align: right;\n",
       "    }\n",
       "</style>\n",
       "<table border=\"1\" class=\"dataframe\">\n",
       "  <thead>\n",
       "    <tr style=\"text-align: right;\">\n",
       "      <th></th>\n",
       "      <th>cod_cadastro</th>\n",
       "      <th>estado_civil</th>\n",
       "      <th>grau_instrucao</th>\n",
       "      <th>num_filhos</th>\n",
       "      <th>salario</th>\n",
       "      <th>idade_anos</th>\n",
       "      <th>reg_procedencia</th>\n",
       "      <th>cod_venda</th>\n",
       "      <th>produto</th>\n",
       "      <th>valor</th>\n",
       "    </tr>\n",
       "  </thead>\n",
       "  <tbody>\n",
       "    <tr>\n",
       "      <th>0</th>\n",
       "      <td>1</td>\n",
       "      <td>solteiro</td>\n",
       "      <td>ensino fundamental</td>\n",
       "      <td>0</td>\n",
       "      <td>4000.0</td>\n",
       "      <td>26</td>\n",
       "      <td>interior</td>\n",
       "      <td>1</td>\n",
       "      <td>Refrigerante</td>\n",
       "      <td>6.5</td>\n",
       "    </tr>\n",
       "    <tr>\n",
       "      <th>1</th>\n",
       "      <td>2</td>\n",
       "      <td>casado</td>\n",
       "      <td>ensino fundamental</td>\n",
       "      <td>1</td>\n",
       "      <td>4560.0</td>\n",
       "      <td>32</td>\n",
       "      <td>capital</td>\n",
       "      <td>2</td>\n",
       "      <td>Chocolate</td>\n",
       "      <td>4.0</td>\n",
       "    </tr>\n",
       "    <tr>\n",
       "      <th>2</th>\n",
       "      <td>3</td>\n",
       "      <td>casado</td>\n",
       "      <td>ensino fundamental</td>\n",
       "      <td>2</td>\n",
       "      <td>5250.0</td>\n",
       "      <td>36</td>\n",
       "      <td>capital</td>\n",
       "      <td>3</td>\n",
       "      <td>Suco</td>\n",
       "      <td>5.0</td>\n",
       "    </tr>\n",
       "    <tr>\n",
       "      <th>3</th>\n",
       "      <td>4</td>\n",
       "      <td>solteiro</td>\n",
       "      <td>ensino medio</td>\n",
       "      <td>0</td>\n",
       "      <td>5730.0</td>\n",
       "      <td>20</td>\n",
       "      <td>outra</td>\n",
       "      <td>4</td>\n",
       "      <td>Bolacha</td>\n",
       "      <td>3.5</td>\n",
       "    </tr>\n",
       "    <tr>\n",
       "      <th>4</th>\n",
       "      <td>5</td>\n",
       "      <td>solteiro</td>\n",
       "      <td>ensino fundamental</td>\n",
       "      <td>0</td>\n",
       "      <td>6260.0</td>\n",
       "      <td>40</td>\n",
       "      <td>outra</td>\n",
       "      <td>5</td>\n",
       "      <td>Cereal</td>\n",
       "      <td>11.9</td>\n",
       "    </tr>\n",
       "  </tbody>\n",
       "</table>\n",
       "</div>"
      ],
      "text/plain": [
       "   cod_cadastro estado_civil      grau_instrucao  num_filhos  salario  \\\n",
       "0             1     solteiro  ensino fundamental           0   4000.0   \n",
       "1             2       casado  ensino fundamental           1   4560.0   \n",
       "2             3       casado  ensino fundamental           2   5250.0   \n",
       "3             4     solteiro        ensino medio           0   5730.0   \n",
       "4             5     solteiro  ensino fundamental           0   6260.0   \n",
       "\n",
       "   idade_anos reg_procedencia  cod_venda       produto  valor  \n",
       "0          26        interior          1  Refrigerante    6.5  \n",
       "1          32         capital          2     Chocolate    4.0  \n",
       "2          36         capital          3          Suco    5.0  \n",
       "3          20           outra          4       Bolacha    3.5  \n",
       "4          40           outra          5        Cereal   11.9  "
      ]
     },
     "execution_count": 27,
     "metadata": {},
     "output_type": "execute_result"
    }
   ],
   "source": [
    "df.head()"
   ]
  },
  {
   "cell_type": "markdown",
   "id": "bfaafb7e-f8b6-4607-994a-a6faeeb682a5",
   "metadata": {},
   "source": [
    "* A `quantiade unitária` de cada produto é 18."
   ]
  },
  {
   "cell_type": "code",
   "execution_count": 28,
   "id": "a1520f4d-638e-46f7-bd48-26879a760f33",
   "metadata": {},
   "outputs": [
    {
     "data": {
      "text/plain": [
       "18"
      ]
     },
     "execution_count": 28,
     "metadata": {},
     "output_type": "execute_result"
    }
   ],
   "source": [
    "df['produto'].nunique()"
   ]
  },
  {
   "cell_type": "code",
   "execution_count": 29,
   "id": "5af7b7ab-192a-471d-8c03-4d9d20ecc56f",
   "metadata": {},
   "outputs": [
    {
     "data": {
      "text/html": [
       "<div>\n",
       "<style scoped>\n",
       "    .dataframe tbody tr th:only-of-type {\n",
       "        vertical-align: middle;\n",
       "    }\n",
       "\n",
       "    .dataframe tbody tr th {\n",
       "        vertical-align: top;\n",
       "    }\n",
       "\n",
       "    .dataframe thead th {\n",
       "        text-align: right;\n",
       "    }\n",
       "</style>\n",
       "<table border=\"1\" class=\"dataframe\">\n",
       "  <thead>\n",
       "    <tr style=\"text-align: right;\">\n",
       "      <th></th>\n",
       "      <th>count</th>\n",
       "    </tr>\n",
       "    <tr>\n",
       "      <th>produto</th>\n",
       "      <th></th>\n",
       "    </tr>\n",
       "  </thead>\n",
       "  <tbody>\n",
       "    <tr>\n",
       "      <th>Chocolate</th>\n",
       "      <td>7</td>\n",
       "    </tr>\n",
       "    <tr>\n",
       "      <th>Refrigerante</th>\n",
       "      <td>6</td>\n",
       "    </tr>\n",
       "    <tr>\n",
       "      <th>Suco</th>\n",
       "      <td>6</td>\n",
       "    </tr>\n",
       "    <tr>\n",
       "      <th>Bolacha</th>\n",
       "      <td>5</td>\n",
       "    </tr>\n",
       "    <tr>\n",
       "      <th>Laranja</th>\n",
       "      <td>4</td>\n",
       "    </tr>\n",
       "    <tr>\n",
       "      <th>Farinha</th>\n",
       "      <td>4</td>\n",
       "    </tr>\n",
       "    <tr>\n",
       "      <th>Feijão</th>\n",
       "      <td>4</td>\n",
       "    </tr>\n",
       "    <tr>\n",
       "      <th>Arroz</th>\n",
       "      <td>4</td>\n",
       "    </tr>\n",
       "    <tr>\n",
       "      <th>Pó de café</th>\n",
       "      <td>4</td>\n",
       "    </tr>\n",
       "    <tr>\n",
       "      <th>Sabão em pó</th>\n",
       "      <td>4</td>\n",
       "    </tr>\n",
       "    <tr>\n",
       "      <th>Queijo</th>\n",
       "      <td>2</td>\n",
       "    </tr>\n",
       "    <tr>\n",
       "      <th>Leite</th>\n",
       "      <td>2</td>\n",
       "    </tr>\n",
       "    <tr>\n",
       "      <th>Óleo</th>\n",
       "      <td>2</td>\n",
       "    </tr>\n",
       "    <tr>\n",
       "      <th>Batata</th>\n",
       "      <td>2</td>\n",
       "    </tr>\n",
       "    <tr>\n",
       "      <th>Cenoura</th>\n",
       "      <td>2</td>\n",
       "    </tr>\n",
       "    <tr>\n",
       "      <th>Macarrão</th>\n",
       "      <td>2</td>\n",
       "    </tr>\n",
       "    <tr>\n",
       "      <th>Iogurte</th>\n",
       "      <td>1</td>\n",
       "    </tr>\n",
       "    <tr>\n",
       "      <th>Cereal</th>\n",
       "      <td>1</td>\n",
       "    </tr>\n",
       "  </tbody>\n",
       "</table>\n",
       "</div>"
      ],
      "text/plain": [
       "              count\n",
       "produto            \n",
       "Chocolate         7\n",
       "Refrigerante      6\n",
       "Suco              6\n",
       "Bolacha           5\n",
       "Laranja           4\n",
       "Farinha           4\n",
       "Feijão            4\n",
       "Arroz             4\n",
       "Pó de café        4\n",
       "Sabão em pó       4\n",
       "Queijo            2\n",
       "Leite             2\n",
       "Óleo              2\n",
       "Batata            2\n",
       "Cenoura           2\n",
       "Macarrão          2\n",
       "Iogurte           1\n",
       "Cereal            1"
      ]
     },
     "execution_count": 29,
     "metadata": {},
     "output_type": "execute_result"
    }
   ],
   "source": [
    "df['produto'].value_counts().to_frame()"
   ]
  },
  {
   "cell_type": "markdown",
   "id": "9ff717a2-f08d-4f92-8733-bf31b32e7ac9",
   "metadata": {},
   "source": [
    "## 4) \n",
    "Existe alguma característica da que identifique o grupo das pessoas (top 5) que compram mais produtos em\r\n",
    "quantidade? E as que gastam mais dinheiro?"
   ]
  },
  {
   "cell_type": "markdown",
   "id": "fb4a76dd-0518-49b2-8c20-f3df32961597",
   "metadata": {},
   "source": [
    "#### Análise pessoas que gastam mais dinheiro"
   ]
  },
  {
   "cell_type": "markdown",
   "id": "0568b530-7631-4f82-8872-f51d680f0cff",
   "metadata": {},
   "source": [
    "A primeira vista, os valores possuem características comuns:\n",
    "* estado_civil = solteiro;\n",
    "* grau_instrucao = 1-ensino fundamental;\n",
    "* reg_procedencia = capital;\n",
    "* Podutos especificos como queijo e pó de café;\n",
    "* num_filhos = 0;\n",
    "* idade_anos > 40."
   ]
  },
  {
   "cell_type": "markdown",
   "id": "ddb54588-74f9-4d49-b959-15d5bb4d5e19",
   "metadata": {},
   "source": [
    "Filtrando pessoas que mais compram:"
   ]
  },
  {
   "cell_type": "code",
   "execution_count": 30,
   "id": "d4da3f53-d1ff-4854-bc74-bea8841423c1",
   "metadata": {},
   "outputs": [],
   "source": [
    "maior_qtd_compra = df[df['cod_cadastro'].map(df['cod_cadastro'].value_counts()) > 1]"
   ]
  },
  {
   "cell_type": "code",
   "execution_count": 31,
   "id": "4f5110e9-f5b7-416d-b5ab-b0d705d616a9",
   "metadata": {},
   "outputs": [],
   "source": [
    "maiores_gastos = df.sort_values(by='valor', ascending=False).head()"
   ]
  },
  {
   "cell_type": "code",
   "execution_count": 32,
   "id": "3d418adb-b419-434c-9e19-2d6b09812659",
   "metadata": {},
   "outputs": [
    {
     "data": {
      "text/html": [
       "<div>\n",
       "<style scoped>\n",
       "    .dataframe tbody tr th:only-of-type {\n",
       "        vertical-align: middle;\n",
       "    }\n",
       "\n",
       "    .dataframe tbody tr th {\n",
       "        vertical-align: top;\n",
       "    }\n",
       "\n",
       "    .dataframe thead th {\n",
       "        text-align: right;\n",
       "    }\n",
       "</style>\n",
       "<table border=\"1\" class=\"dataframe\">\n",
       "  <thead>\n",
       "    <tr style=\"text-align: right;\">\n",
       "      <th></th>\n",
       "      <th>cod_cadastro</th>\n",
       "      <th>estado_civil</th>\n",
       "      <th>grau_instrucao</th>\n",
       "      <th>num_filhos</th>\n",
       "      <th>salario</th>\n",
       "      <th>idade_anos</th>\n",
       "      <th>reg_procedencia</th>\n",
       "      <th>cod_venda</th>\n",
       "      <th>produto</th>\n",
       "      <th>valor</th>\n",
       "    </tr>\n",
       "  </thead>\n",
       "  <tbody>\n",
       "    <tr>\n",
       "      <th>54</th>\n",
       "      <td>34</td>\n",
       "      <td>solteiro</td>\n",
       "      <td>superior</td>\n",
       "      <td>0</td>\n",
       "      <td>18750.0</td>\n",
       "      <td>33</td>\n",
       "      <td>capital</td>\n",
       "      <td>47</td>\n",
       "      <td>Queijo</td>\n",
       "      <td>35.5</td>\n",
       "    </tr>\n",
       "    <tr>\n",
       "      <th>6</th>\n",
       "      <td>7</td>\n",
       "      <td>solteiro</td>\n",
       "      <td>ensino fundamental</td>\n",
       "      <td>0</td>\n",
       "      <td>6860.0</td>\n",
       "      <td>41</td>\n",
       "      <td>interior</td>\n",
       "      <td>7</td>\n",
       "      <td>Queijo</td>\n",
       "      <td>35.5</td>\n",
       "    </tr>\n",
       "    <tr>\n",
       "      <th>57</th>\n",
       "      <td>35</td>\n",
       "      <td>casado</td>\n",
       "      <td>ensino medio</td>\n",
       "      <td>2</td>\n",
       "      <td>19400.0</td>\n",
       "      <td>48</td>\n",
       "      <td>capital</td>\n",
       "      <td>48</td>\n",
       "      <td>Pó de café</td>\n",
       "      <td>21.8</td>\n",
       "    </tr>\n",
       "    <tr>\n",
       "      <th>32</th>\n",
       "      <td>27</td>\n",
       "      <td>solteiro</td>\n",
       "      <td>ensino fundamental</td>\n",
       "      <td>0</td>\n",
       "      <td>13850.0</td>\n",
       "      <td>46</td>\n",
       "      <td>outra</td>\n",
       "      <td>27</td>\n",
       "      <td>Pó de café</td>\n",
       "      <td>21.8</td>\n",
       "    </tr>\n",
       "    <tr>\n",
       "      <th>7</th>\n",
       "      <td>8</td>\n",
       "      <td>solteiro</td>\n",
       "      <td>ensino fundamental</td>\n",
       "      <td>0</td>\n",
       "      <td>7390.0</td>\n",
       "      <td>43</td>\n",
       "      <td>capital</td>\n",
       "      <td>8</td>\n",
       "      <td>Pó de café</td>\n",
       "      <td>21.8</td>\n",
       "    </tr>\n",
       "  </tbody>\n",
       "</table>\n",
       "</div>"
      ],
      "text/plain": [
       "    cod_cadastro estado_civil      grau_instrucao  num_filhos  salario  \\\n",
       "54            34     solteiro            superior           0  18750.0   \n",
       "6              7     solteiro  ensino fundamental           0   6860.0   \n",
       "57            35       casado        ensino medio           2  19400.0   \n",
       "32            27     solteiro  ensino fundamental           0  13850.0   \n",
       "7              8     solteiro  ensino fundamental           0   7390.0   \n",
       "\n",
       "    idade_anos reg_procedencia  cod_venda     produto  valor  \n",
       "54          33         capital         47      Queijo   35.5  \n",
       "6           41        interior          7      Queijo   35.5  \n",
       "57          48         capital         48  Pó de café   21.8  \n",
       "32          46           outra         27  Pó de café   21.8  \n",
       "7           43         capital          8  Pó de café   21.8  "
      ]
     },
     "execution_count": 32,
     "metadata": {},
     "output_type": "execute_result"
    }
   ],
   "source": [
    "maiores_gastos"
   ]
  },
  {
   "cell_type": "markdown",
   "id": "57509929-f76e-42ca-babe-f622baa82e22",
   "metadata": {},
   "source": [
    "## 5)\n",
    "Você consegue ver alguma relação entre o grau de instrução e o número de filhos? Descreva a sua\r\n",
    "interpretação do caso, utilizando os dados para justificar as suas conclusões."
   ]
  },
  {
   "cell_type": "code",
   "execution_count": 33,
   "id": "b31e1d5b-32dd-4fe8-a96a-afa0bd7f8bf3",
   "metadata": {},
   "outputs": [
    {
     "data": {
      "text/html": [
       "<div>\n",
       "<style scoped>\n",
       "    .dataframe tbody tr th:only-of-type {\n",
       "        vertical-align: middle;\n",
       "    }\n",
       "\n",
       "    .dataframe tbody tr th {\n",
       "        vertical-align: top;\n",
       "    }\n",
       "\n",
       "    .dataframe thead th {\n",
       "        text-align: right;\n",
       "    }\n",
       "</style>\n",
       "<table border=\"1\" class=\"dataframe\">\n",
       "  <thead>\n",
       "    <tr style=\"text-align: right;\">\n",
       "      <th>num_filhos</th>\n",
       "      <th>0</th>\n",
       "      <th>1</th>\n",
       "      <th>2</th>\n",
       "      <th>3</th>\n",
       "      <th>5</th>\n",
       "    </tr>\n",
       "    <tr>\n",
       "      <th>grau_instrucao</th>\n",
       "      <th></th>\n",
       "      <th></th>\n",
       "      <th></th>\n",
       "      <th></th>\n",
       "      <th></th>\n",
       "    </tr>\n",
       "  </thead>\n",
       "  <tbody>\n",
       "    <tr>\n",
       "      <th>ensino fundamental</th>\n",
       "      <td>10</td>\n",
       "      <td>1</td>\n",
       "      <td>2</td>\n",
       "      <td>1</td>\n",
       "      <td>0</td>\n",
       "    </tr>\n",
       "    <tr>\n",
       "      <th>ensino medio</th>\n",
       "      <td>10</td>\n",
       "      <td>6</td>\n",
       "      <td>13</td>\n",
       "      <td>0</td>\n",
       "      <td>3</td>\n",
       "    </tr>\n",
       "    <tr>\n",
       "      <th>superior</th>\n",
       "      <td>10</td>\n",
       "      <td>0</td>\n",
       "      <td>0</td>\n",
       "      <td>6</td>\n",
       "      <td>0</td>\n",
       "    </tr>\n",
       "  </tbody>\n",
       "</table>\n",
       "</div>"
      ],
      "text/plain": [
       "num_filhos           0  1   2  3  5\n",
       "grau_instrucao                     \n",
       "ensino fundamental  10  1   2  1  0\n",
       "ensino medio        10  6  13  0  3\n",
       "superior            10  0   0  6  0"
      ]
     },
     "execution_count": 33,
     "metadata": {},
     "output_type": "execute_result"
    }
   ],
   "source": [
    "# Tabela cruzada\n",
    "freq = pd.crosstab(df['grau_instrucao'], df['num_filhos'])\n",
    "freq"
   ]
  },
  {
   "cell_type": "code",
   "execution_count": 34,
   "id": "a7dd9f41-05d6-49de-b642-fcb1138c9b85",
   "metadata": {},
   "outputs": [
    {
     "data": {
      "text/html": [
       "<div>\n",
       "<style scoped>\n",
       "    .dataframe tbody tr th:only-of-type {\n",
       "        vertical-align: middle;\n",
       "    }\n",
       "\n",
       "    .dataframe tbody tr th {\n",
       "        vertical-align: top;\n",
       "    }\n",
       "\n",
       "    .dataframe thead th {\n",
       "        text-align: right;\n",
       "    }\n",
       "</style>\n",
       "<table border=\"1\" class=\"dataframe\">\n",
       "  <thead>\n",
       "    <tr style=\"text-align: right;\">\n",
       "      <th>num_filhos</th>\n",
       "      <th>0</th>\n",
       "      <th>1</th>\n",
       "      <th>2</th>\n",
       "      <th>3</th>\n",
       "      <th>5</th>\n",
       "    </tr>\n",
       "    <tr>\n",
       "      <th>grau_instrucao</th>\n",
       "      <th></th>\n",
       "      <th></th>\n",
       "      <th></th>\n",
       "      <th></th>\n",
       "      <th></th>\n",
       "    </tr>\n",
       "  </thead>\n",
       "  <tbody>\n",
       "    <tr>\n",
       "      <th>ensino fundamental</th>\n",
       "      <td>0.714286</td>\n",
       "      <td>0.071429</td>\n",
       "      <td>0.142857</td>\n",
       "      <td>0.071429</td>\n",
       "      <td>0.00000</td>\n",
       "    </tr>\n",
       "    <tr>\n",
       "      <th>ensino medio</th>\n",
       "      <td>0.312500</td>\n",
       "      <td>0.187500</td>\n",
       "      <td>0.406250</td>\n",
       "      <td>0.000000</td>\n",
       "      <td>0.09375</td>\n",
       "    </tr>\n",
       "    <tr>\n",
       "      <th>superior</th>\n",
       "      <td>0.625000</td>\n",
       "      <td>0.000000</td>\n",
       "      <td>0.000000</td>\n",
       "      <td>0.375000</td>\n",
       "      <td>0.00000</td>\n",
       "    </tr>\n",
       "  </tbody>\n",
       "</table>\n",
       "</div>"
      ],
      "text/plain": [
       "num_filhos                 0         1         2         3        5\n",
       "grau_instrucao                                                     \n",
       "ensino fundamental  0.714286  0.071429  0.142857  0.071429  0.00000\n",
       "ensino medio        0.312500  0.187500  0.406250  0.000000  0.09375\n",
       "superior            0.625000  0.000000  0.000000  0.375000  0.00000"
      ]
     },
     "execution_count": 34,
     "metadata": {},
     "output_type": "execute_result"
    }
   ],
   "source": [
    "# Tabela cruzada percentual\n",
    "freq_pct = freq.div(freq.sum(axis = 1), axis = 0)\n",
    "freq_pct"
   ]
  },
  {
   "cell_type": "code",
   "execution_count": 35,
   "id": "dfcda87f-2981-48df-a33f-59f00cef9368",
   "metadata": {},
   "outputs": [
    {
     "data": {
      "image/png": "[encoded data removed]",
      "text/plain": [
       "<Figure size 1000x1000 with 4 Axes>"
      ]
     },
     "metadata": {},
     "output_type": "display_data"
    }
   ],
   "source": [
    "plt.rc('figure', figsize=(10,10))\n",
    "fig, ax = plt.subplots(2,2)\n",
    "\n",
    "#Gráficos\n",
    "ax1 = sns.barplot(ax=ax[0,0], x='grau_instrucao', y='num_filhos', errorbar=('ci', 95), data=df)\n",
    "ax2 = sns.barplot(ax=ax[0,1], x='grau_instrucao', y='num_filhos', hue='estado_civil', estimator=sum, data=df)\n",
    "ax3 = sns.pointplot(ax=ax[1,0], x=\"grau_instrucao\", y=\"num_filhos\", errorbar=('ci', 95), data=df)\n",
    "ax4 = sns.boxplot(ax=ax[1,1], x='grau_instrucao' , y='num_filhos', data=df)\n",
    "\n",
    "#Título dos Gráficos\n",
    "ax1.set_title('Média de Filhos por Grau de Instrução')\n",
    "ax2.set_title('Soma de Filhos por Grau de Instrução')\n",
    "ax3.set_title('Perfil da Média')\n",
    "ax4.set_title('Distribuição n° de Filhos por Nível Escolar')\n",
    "\n",
    "#Linha da média de filhos por grau de instrução\n",
    "media_ax1 = df['num_filhos'].mean()\n",
    "\n",
    "#Traçando linha média\n",
    "ax1.axhline(y=media_ax1, color='r', linestyle='--', label='Média')\n",
    "ax2.axhline(y=media_ax1, color='r', linestyle='--', label='Média')\n",
    "\n",
    "plt.tight_layout()"
   ]
  },
  {
   "cell_type": "code",
   "execution_count": 36,
   "id": "0f67df87-5e89-47c7-908a-d553db7b7100",
   "metadata": {},
   "outputs": [
    {
     "data": {
      "text/plain": [
       "0     ensino fundamental\n",
       "1     ensino fundamental\n",
       "2     ensino fundamental\n",
       "3           ensino medio\n",
       "4     ensino fundamental\n",
       "             ...        \n",
       "57          ensino medio\n",
       "58          ensino medio\n",
       "59              superior\n",
       "60              superior\n",
       "61              superior\n",
       "Name: grau_instrucao, Length: 62, dtype: object"
      ]
     },
     "execution_count": 36,
     "metadata": {},
     "output_type": "execute_result"
    }
   ],
   "source": [
    "df.grau_instrucao"
   ]
  },
  {
   "cell_type": "code",
   "execution_count": 39,
   "id": "48821278-651c-47c4-8dd8-65373286580d",
   "metadata": {},
   "outputs": [],
   "source": [
    "ensino_medio = df.loc[(df['grau_instrucao'] == 'ensino medio')]\n",
    "ensino_superior = df.loc[(df['grau_instrucao'] == 'superior')]\n",
    "ensino_fundamental = df.loc[(df['grau_instrucao'] == 'ensino fundamental')]"
   ]
  },
  {
   "cell_type": "code",
   "execution_count": null,
   "id": "85e84661-429b-4425-ae04-6171df473fb9",
   "metadata": {},
   "outputs": [],
   "source": []
  },
  {
   "cell_type": "code",
   "execution_count": null,
   "id": "e576f21d-5290-48a5-a5fa-e3c8b60297c0",
   "metadata": {},
   "outputs": [],
   "source": []
  }
 ],
 "metadata": {
  "kernelspec": {
   "display_name": "Python 3 (ipykernel)",
   "language": "python",
   "name": "python3"
  },
  "language_info": {
   "codemirror_mode": {
    "name": "ipython",
    "version": 3
   },
   "file_extension": ".py",
   "mimetype": "text/x-python",
   "name": "python",
   "nbconvert_exporter": "python",
   "pygments_lexer": "ipython3",
   "version": "3.11.5"
  }
 },
 "nbformat": 4,
 "nbformat_minor": 5
}
